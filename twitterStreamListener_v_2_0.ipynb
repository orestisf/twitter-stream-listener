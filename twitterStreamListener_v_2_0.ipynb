{
  "nbformat": 4,
  "nbformat_minor": 0,
  "metadata": {
    "colab": {
      "name": "twitterStreamListener.v.2.0.ipynb",
      "provenance": [],
      "collapsed_sections": []
    },
    "kernelspec": {
      "name": "python3",
      "display_name": "Python 3"
    }
  },
  "cells": [
    {
      "cell_type": "markdown",
      "metadata": {
        "id": "_bRyYCd1AJ9J"
      },
      "source": [
        "# Twitter StreamListener v.2.0"
      ]
    },
    {
      "cell_type": "markdown",
      "metadata": {
        "id": "P6nWmgs-ASLI"
      },
      "source": [
        "## Install and import libraries"
      ]
    },
    {
      "cell_type": "code",
      "metadata": {
        "id": "stenJM7mAB5s"
      },
      "source": [
        "# Install libraries\n",
        "!pip install tweepy\n",
        "!pip install azure-eventhub\n",
        "!pip install nest_asyncio"
      ],
      "execution_count": null,
      "outputs": []
    },
    {
      "cell_type": "code",
      "metadata": {
        "id": "d-zX27DxAVSW"
      },
      "source": [
        "import tweepy\n",
        "from tweepy import Stream\n",
        "from tweepy import OAuthHandler\n",
        "from tweepy.streaming import StreamListener\n",
        "import json\n",
        "import datetime\n",
        "import sys\n",
        "import os\n",
        "import asyncio\n",
        "import nest_asyncio #only used when running in for jupyter notebook\n",
        "from azure.eventhub.aio import EventHubProducerClient\n",
        "from azure.eventhub import EventData"
      ],
      "execution_count": null,
      "outputs": []
    },
    {
      "cell_type": "markdown",
      "metadata": {
        "id": "zQwnBgYZAjbB"
      },
      "source": [
        "## Configure connection strings to Twitter and Azure Event Hub"
      ]
    },
    {
      "cell_type": "code",
      "metadata": {
        "id": "JWAbhaFvB9T4"
      },
      "source": [
        "# Twitter dev app tokens\n",
        "consumer_key = \"XXXXXXXXXXXXXXXXXXXX\"\n",
        "consumer_secret = \"XXXXXXXXXXXXXXXXXXXX\"\n",
        "access_key = \"XXXXXXXXXXXXXXXXXXXX\"\n",
        "access_secret = \"XXXXXXXXXXXXXXXXXXXX\""
      ],
      "execution_count": null,
      "outputs": []
    },
    {
      "cell_type": "code",
      "metadata": {
        "id": "UoTu5AbqCXsm"
      },
      "source": [
        "# Event Hub primary endpoint and event hub instance name\n",
        "connection_string = \"XXXXXXXXXXXXXXXXXXXX\"\n",
        "event_hub_name = \"XXXXXXXXXXXXXXXXXXXX\""
      ],
      "execution_count": null,
      "outputs": []
    },
    {
      "cell_type": "code",
      "metadata": {
        "id": "dhPqy2MLCuWI"
      },
      "source": [
        "async def run(text):\n",
        "    producer = EventHubProducerClient.from_connection_string(conn_str=connection_string,eventhub_name=event_hub_name)\n",
        "    async with producer:\n",
        "        event_data_batch = await producer.create_batch()\n",
        "        event_data_batch.add(EventData(text))\n",
        "        await producer.send_batch(event_data_batch)"
      ],
      "execution_count": null,
      "outputs": []
    },
    {
      "cell_type": "markdown",
      "metadata": {
        "id": "s-Z670FBD8qN"
      },
      "source": [
        "## Main Code\n",
        "Contains functions to handle errors and time limits in the stream.\n",
        "The flow is like this:\n",
        "1. Convert incoming tweet to Python object\n",
        "2. Capture basic user attributes (i.e. id, name, screen name)\n",
        "3. Capture basic tweet information (id, if it is truncated, if it is retweet, if it is a quote)\n",
        "4. Detect if the tweet has, and capture, hashtags, urls, mentions, symbols and media\n",
        "5. Detect the text and remove any mentions, links, hashtags etc so that only the clean text remains.\n",
        "6. Finally dump the stored attributes into a JSON object which is passed into the Event Hub.\n",
        "\n",
        "All the code is implemented in a single class `StreamListener` inheriting from `tweepy.StreamListener`.\n"
      ]
    },
    {
      "cell_type": "code",
      "metadata": {
        "id": "L6koV6BQaHBS"
      },
      "source": [
        "class StreamListener(tweepy.StreamListener):\n",
        "\n",
        "    def on_connect(self):\n",
        "        print(\"Established connection to the Twitter streaming API.\")\n",
        "\n",
        "    def on_error(self, status_code):\n",
        "        print('An Error has occured: ' + repr(status_code),\n",
        "                file=sys.stderr)\n",
        "        return False\n",
        "    \n",
        "    def on_limit(self,status):\n",
        "        print(\"API rate limit exceeded, sleep for 15 minutes\")\n",
        "        time.sleep(15 * 60)\n",
        "        return True\n",
        "\n",
        "    def get_text_cleaned(text,entity_dict): \n",
        "        # Removes any mentions, links, hashtags, symbols from the tweet's text\n",
        "        slices = []\n",
        "        for entityname, content in entity_dict.items():\n",
        "            for key in content:\n",
        "                slices += [{'start': key['indices'][0], 'stop': key['indices'][1]}]\n",
        "        slices = sorted(slices, key=lambda x: -x['start'])\n",
        "\n",
        "        for s in slices:\n",
        "            text = text[:s['start']] + text[s['stop']:]\n",
        "        \n",
        "        # Finally, strip white spaces and new lines\n",
        "        text = \" \".join(text.split())\n",
        "        # Return cleaned text to be stored in the tweetcontainer\n",
        "        return text\n",
        "\n",
        "    # Return true if tweet is extended_tweet\n",
        "    def check_extended_tweet(status):\n",
        "        if hasattr(status, \"extended_tweet\"):\n",
        "            return True\n",
        "        return False\n",
        "    \n",
        "    def check_extended_entities(status):\n",
        "        if hasattr(status,\"extended_entities\"):\n",
        "            return True\n",
        "        return False\n",
        "\n",
        "    # Return True if tweet is a reply to another tweet.\n",
        "    def check_reply(status):\n",
        "        if hasattr(status, \"in_reply_to_status_id\"):\n",
        "            return True\n",
        "        return False\n",
        "\n",
        "    # Return True if tweet contains place information\n",
        "    def check_place(status):\n",
        "        if hasattr(status, \"place.id\"):\n",
        "            return True\n",
        "        return False\n",
        "\n",
        "    # Return true if tweet in stream contains a retweeted tweet\n",
        "    def check_retweeted(status):\n",
        "        if hasattr(status, \"retweeted_status\"):\n",
        "            retweet = status.retweeted_status\n",
        "            if hasattr(retweet, 'user'):\n",
        "                if retweet.user is not None:\n",
        "                    if hasattr(retweet.user, \"screen_name\"):\n",
        "                        if retweet.user.screen_name is not None:\n",
        "                            return True\n",
        "        return False\n",
        "\n",
        "    # Return true if tweet in stream contains a quoted tweet\n",
        "    def check_quoted_tweet(status):\n",
        "        if hasattr(status, \"quoted_status\"):\n",
        "            quote_tweet = status.quoted_status\n",
        "            if hasattr(status.quoted_status, 'user'):\n",
        "                if status.quoted_status.user is not None:\n",
        "                    user = status.quoted_status.user\n",
        "                    if hasattr(user, 'screen_name'):\n",
        "                        if user.screen_name is not None:\n",
        "                            return True\n",
        "        return False\n",
        "\n",
        "    # This is the main part where we capture the tweet attributes we're interested in.\n",
        "    def on_status(self, status):\n",
        "        print('processing incoming id:',status.id_str)\n",
        "        #print('incoming id:',status.id_str,\"from user:\",status.user.screen_name,\"with text:\",status.text)\n",
        "        loop = asyncio.get_event_loop() # disable if we don't want to send to event hub\n",
        "        tweetcontainer = []\n",
        "        tweet_details = {}\n",
        "        \n",
        "        # Capture tweeting user's profile attributes\n",
        "        tweet_details['user_id_str'] = status.user.id_str\n",
        "        tweet_details['user_name'] = status.user.name\n",
        "        tweet_details['user_screenname'] = status.user.screen_name\n",
        "        tweet_details['user_location'] = status.user.location\n",
        "        tweet_details['coordinates'] = status.coordinates\n",
        "        tweet_details['tweet_lang'] = status.lang\n",
        "        tweet_details['user_created'] = status.user.created_at.strftime(\"%d-%b-%Y\")\n",
        "        tweet_details['created'] = status.created_at.strftime(\"%d-%b-%Y\")\n",
        "        tweet_details['followers_count'] = status.user.followers_count\n",
        "        tweet_details['friends'] = status.user.friends_count\n",
        "        tweet_details['user_listed_count'] = status.user.listed_count\n",
        "        tweet_details['user_verified'] = status.user.verified\n",
        "        tweet_details['statuses_count'] = status.user.statuses_count\n",
        "        tweet_details['favourites_count'] = status.user.favourites_count\n",
        "        \n",
        "        # Capture tweet's attributes\n",
        "        tweet_details['tweet_id'] = status.id_str\n",
        "        tweet_details['created'] = status.created_at.strftime(\"%d-%b-%Y\")\n",
        "        tweet_details['truncated'] = status.truncated\n",
        "\n",
        "        # Capture tweet attributes. If the tweet being streamed is a quote, we only capture the top-level tweet's attributes.\n",
        "        attributes = ['hashtags','user_mentions','urls','symbols','media']\n",
        "        entity_dict = {}\n",
        "        for attr in attributes:\n",
        "                #entity = None remove after test passes\n",
        "                entity = 'unprocessed'\n",
        "                entity_count = attr+\"_count\"\n",
        "                #while entity is None: remove after test passes\n",
        "                while entity is 'unprocessed':\n",
        "                    try:\n",
        "                        entity = status.extended_tweet['extended_entities'][attr]\n",
        "                        break\n",
        "                    except (AttributeError, KeyError) as e:\n",
        "                        pass\n",
        "                    try:\n",
        "                        entity = status.extended_tweet['entities'][attr]\n",
        "                        break\n",
        "                    except (AttributeError, KeyError) as e:\n",
        "                        pass\n",
        "                    try:\n",
        "                        entity = status.extended_entities[attr]\n",
        "                        break\n",
        "                    except (AttributeError, KeyError) as e:\n",
        "                        pass\n",
        "                    try:\n",
        "                        entity = status.entities[attr]\n",
        "                        break\n",
        "                    except (AttributeError, KeyError) as e:\n",
        "                        break\n",
        "\n",
        "                #if entity: # remove after test passes\n",
        "                if entity != 'unprocessed':\n",
        "                    if len(entity) == 0:\n",
        "                        tweet_details[attr] = None\n",
        "                    else:\n",
        "                        tweet_details[attr] = entity                    \n",
        "                    tweet_details[entity_count] = len(entity)\n",
        "                    entity_dict[attr] = entity\n",
        "                else:\n",
        "                    tweet_details[attr] = None\n",
        "                    tweet_details[entity_count] = 0\n",
        "                    entity = None\n",
        "\n",
        "                if attr == 'media' and entity != 'null' and entity is not None:\n",
        "                        media_container = []\n",
        "                        for index, med in enumerate(entity):\n",
        "                            media_details = {}\n",
        "                            media_details['id_Str'] = entity[index]['id_str']\n",
        "                            media_details['type'] = entity[index]['type']\n",
        "                            media_details['media_url'] = entity[index]['media_url_https']\n",
        "                            media_container.append(media_details)\n",
        "                        tweet_details['media_info'] = media_container\n",
        "\n",
        "        if hasattr(status, \"extended_tweet\"):\n",
        "            try:\n",
        "                tweet_details['full_text'] = status.extended_tweet['full_text']\n",
        "            except:\n",
        "                tweet_details['full_text'] = status.text         \n",
        "        else:\n",
        "            tweet_details['full_text'] = status.text\n",
        "        \n",
        "        tweet_details['cleantext'] = StreamListener.get_text_cleaned(tweet_details['full_text'], entity_dict)\n",
        "\n",
        "        # Check if tweet is a reply to another tweet and if yes capture tweet's id, user's id, user's screen name.\n",
        "        if StreamListener.check_reply(status):\n",
        "            tweet_details['is_reply'] = True\n",
        "            tweet_details['tweet_reply_id_str'] = status.in_reply_to_status_id\n",
        "            tweet_details['tweet_reply_user_id_str'] = status.in_reply_to_user_id_str\n",
        "            tweet_details['tweet_reply_user_screen_name'] = status.in_reply_to_screen_name\n",
        "        else:\n",
        "            tweet_details['is_reply'] = False\n",
        "\n",
        "        # Check if tweet contains a retweet and get the retweeted tweet's id, user id and user screen name. Get also full text.\n",
        "        if StreamListener.check_retweeted(status):\n",
        "            tweet_details['has_retweet'] = True\n",
        "            tweet_details['retweeted_tweet_id'] = status.retweeted_status.id_str\n",
        "            tweet_details['retweeted_tweet_user_id'] = status.retweeted_status.user.id_str\n",
        "            tweet_details['retweeted_tweet_user_screen_name'] = status.retweeted_status.user.screen_name\n",
        "        else:\n",
        "            tweet_details['has_retweet'] = False\n",
        "\n",
        "        # Check if tweet contains a quote and get the quoted tweet's id, user id and user screen name\n",
        "        if StreamListener.check_quoted_tweet(status):\n",
        "            tweet_details['has_quote'] = True\n",
        "            tweet_details['quoted_tweet_id'] =  status.quoted_status.id_str\n",
        "            tweet_details['quoted_tweet_user_id'] =  status.quoted_status.user.id_str\n",
        "            tweet_details['quoted_tweet_user_screen_name'] =  status.quoted_status.user.screen_name\n",
        "        else:\n",
        "            tweet_details['has_quote'] = False\n",
        "\n",
        "        # Check if tweet contains a place and get the place attributes\n",
        "        if StreamListener.check_place(status):\n",
        "            tweet_details['has_place'] = True\n",
        "            tweet_details['place_id'] = status.place.id\n",
        "            tweet_details['place_url'] = status.place.url\n",
        "            tweet_details['place_type'] = status.place.place_type\n",
        "            tweet_details['place_name'] = status.place.name\n",
        "            tweet_details['place_full_name'] = status.place.full_name\n",
        "            tweet_details['place_country_code'] = status.place.country_code\n",
        "            tweet_details['place_country'] = status.place.country\n",
        "            tweet_details['place_bounding_box.type'] = status.place.bounding_box.type\n",
        "            tweet_details['place_bounding_box.coords'] = status.place.bounding_box.coordinates\n",
        "        else:\n",
        "            tweet_details['has_place'] = False     \n",
        "\n",
        "        tweetcontainer.append(tweet_details)\n",
        "        if 'media' in tweet_details: del tweet_details['media'] \n",
        "        output = json.dumps(tweetcontainer)\n",
        "        print(\"saving input to json\")\n",
        "        with open('data-input.json', 'a') as outfile:\n",
        "            outfile.write(output)\n",
        "            outfile.write(\"\\n\")\n",
        "        print(\"saved!\")        \n",
        "        print(\"saving output to json\")\n",
        "        with open('data-output.json', 'a') as outfile:\n",
        "            outfile.write(output)\n",
        "            outfile.write(\"\\n\")\n",
        "        nest_asyncio.apply() # This is only needed when running from Jupyter notebook. Comment this to disable sending event to Event Hub.\n",
        "        loop.run_until_complete(run(output)) # Comment this to disable sending event to Event Hub.\n",
        "        print('Successfully processed',tweet_details['tweet_id'],\"printing output json\")\n",
        "        print(output)\n",
        "        print(\"waiting for next tweet in stream\")"
      ],
      "execution_count": null,
      "outputs": []
    },
    {
      "cell_type": "markdown",
      "metadata": {
        "id": "gcvRBR7ocimD"
      },
      "source": [
        "## Start Stream!\n",
        "Execute this cell to initiate the streamer."
      ]
    },
    {
      "cell_type": "code",
      "metadata": {
        "id": "aVh74LZbdDEC"
      },
      "source": [
        "def start_stream():\n",
        "    while True:\n",
        "        try:\n",
        "            auth = tweepy.OAuthHandler(consumer_key, consumer_secret)\n",
        "            auth.set_access_token(access_key, access_secret)\n",
        "            listener = StreamListener(api = tweepy.API(\n",
        "                                        wait_on_rate_limit = True,\n",
        "                                        wait_on_rate_limit_notify = True,\n",
        "                                        compression = True))\n",
        "            streamer = tweepy.Stream(auth = auth, listener = listener, tweet_mode='extended')\n",
        "            print('Started tracking flow')\n",
        "            streamer.filter(track = ['#hashtag1','#hashtag2'])\n",
        "        except Exception as e:\n",
        "            print('Error in main():')\n",
        "            print(e.__doc__)\n",
        "\n",
        "start_stream()"
      ],
      "execution_count": null,
      "outputs": []
    }
  ]
}